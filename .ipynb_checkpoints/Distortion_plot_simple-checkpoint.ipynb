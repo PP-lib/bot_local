{
 "cells": [
  {
   "cell_type": "markdown",
   "metadata": {
    "colab_type": "text",
    "id": "view-in-github"
   },
   "source": [
    "<a href=\"https://colab.research.google.com/github/PP-lib/Bot_materials/blob/master/Distortion_plot_simple.ipynb\" target=\"_parent\"><img src=\"https://colab.research.google.com/assets/colab-badge.svg\" alt=\"Open In Colab\"/></a>"
   ]
  },
  {
   "cell_type": "code",
   "execution_count": 0,
   "metadata": {
    "colab": {},
    "colab_type": "code",
    "id": "4r-aaj7_GdHI"
   },
   "outputs": [],
   "source": [
    "import pandas as pd\n",
    "import numpy as np\n",
    "import datetime\n",
    "import math\n",
    "import csv\n",
    "import glob"
   ]
  },
  {
   "cell_type": "code",
   "execution_count": 0,
   "metadata": {
    "colab": {},
    "colab_type": "code",
    "id": "czLV_S_VjYHU"
   },
   "outputs": [],
   "source": [
    "import keras\n",
    "from keras.utils import np_utils\n",
    "from keras.models import Sequential\n",
    "from keras.layers.convolutional import Conv2D, MaxPooling2D\n",
    "from keras.layers.core import Dense, Dropout, Activation, Flatten\n",
    "import numpy as np\n",
    "from sklearn.model_selection import train_test_split\n",
    "from PIL import Image\n",
    "import glob\n",
    "\n",
    "folder = ['up','down','unknown']\n",
    "image_size_X = 240\n",
    "image_size_Y = 240\n",
    "\n",
    "# 画像の読み込み、リサイズ、ndarrayへの格納 \n",
    "X = []\n",
    "Y = []\n",
    "for index, name in enumerate(folder):\n",
    "    dir = './data/plots/' + name\n",
    "    files = glob.glob(dir + '/*.png')\n",
    "    for i, file in enumerate(files):\n",
    "        image = Image.open(file)\n",
    "        image = image.convert('RGB')\n",
    "        image = image.resize((image_size_X, image_size_Y))\n",
    "        data = np.asarray(image)\n",
    "        X.append(data)\n",
    "        Y.append(index)\n",
    " \n",
    "X = np.array(X)\n",
    "Y = np.array(Y)\n",
    "\n",
    "# RGBデータの正規化\n",
    "X = X.astype('float32')\n",
    "X = X / 255.0\n",
    "\n",
    "# 正解ラベルの形式を変換\n",
    "Y = np_utils.to_categorical(Y, 3)\n",
    "\n",
    "# 訓練データとテストデータの分配(2割をテストデータへ)  \n",
    "X_train, X_test, Y_train, Y_test = train_test_split(X, Y, test_size=0.20)\n",
    "\n",
    "# CNNのパラメータ設定\n",
    "model = Sequential()\n",
    " \n",
    "model.add(Conv2D(32, (3, 3), padding='same',input_shape=X_train.shape[1:])) # レイヤー1  \n",
    "model.add(Activation('relu'))\n",
    "model.add(Conv2D(32, (3, 3))) # レイヤー2  \n",
    "model.add(Activation('relu'))\n",
    "model.add(MaxPooling2D(pool_size=(2, 2)))\n",
    "model.add(Dropout(0.25))\n",
    " \n",
    "model.add(Conv2D(64, (3, 3), padding='same'))  # レイヤー3  \n",
    "model.add(Activation('relu'))\n",
    "model.add(Conv2D(64, (3, 3)))   # レイヤー4  \n",
    "model.add(Activation('relu'))\n",
    "model.add(MaxPooling2D(pool_size=(2, 2)))\n",
    "model.add(Dropout(0.25))\n",
    " \n",
    "model.add(Flatten())   # レイヤー5\n",
    "model.add(Dense(512))\n",
    "model.add(Activation('relu'))\n",
    "model.add(Dropout(0.5))\n",
    "model.add(Dense(3))   # レイヤー6  \n",
    "model.add(Activation('softmax'))\n",
    " \n",
    "# コンパイル\n",
    "model.compile(loss='categorical_crossentropy',optimizer='SGD',metrics=['accuracy'])\n",
    "\n",
    "#訓練\n",
    "model.fit(X_train, Y_train,batch_size=32, epochs=100)\n",
    "\n",
    "#評価 & 評価結果出力\n",
    "score = model.evaluate(X_test, Y_test)\n",
    "print('loss=',score[0])\n",
    "print('accuracy=',score[1])"
   ]
  },
  {
   "cell_type": "code",
   "execution_count": 0,
   "metadata": {
    "colab": {},
    "colab_type": "code",
    "id": "LhEQEB7NeRJ9"
   },
   "outputs": [],
   "source": [
    "# モデルの保存\n",
    "open('and.json',\"w\").write(model.to_json())\n",
    "\n",
    "# 学習済みの重みを保存\n",
    "model.save_weights('and_weight.hdf5')"
   ]
  },
  {
   "cell_type": "code",
   "execution_count": 0,
   "metadata": {
    "colab": {},
    "colab_type": "code",
    "id": "1glUIv8dfFOk"
   },
   "outputs": [],
   "source": [
    "import numpy as np\n",
    "from keras.datasets import mnist\n",
    "from keras.models import Sequential\n",
    "from keras.layers.core import Dense, Activation, Flatten\n",
    "from keras.layers.convolutional import Convolution2D, MaxPooling2D\n",
    "from keras.layers.normalization import BatchNormalization\n",
    "from keras.utils import np_utils\n",
    "from keras.optimizers import Adam\n",
    "import keras.callbacks\n",
    "import keras.backend.tensorflow_backend as KTF\n",
    "import tensorflow as tf\n",
    "import os.path\n",
    "import json\n",
    "\n",
    "\n",
    "model.save('./data/plots/model.h5', include_optimizer=False)\n",
    "model.save_weights(os.path.join('./data/plots/cnn_model_weights.hdf5'))\n",
    "\n",
    "# model_json_str = model.to_json()\n",
    "# open('mnist_mlp_model.json', 'w').write(model_json_str)\n",
    "# model.save_weights('mnist_mlp_weights.h5');\n"
   ]
  },
  {
   "cell_type": "code",
   "execution_count": 0,
   "metadata": {
    "colab": {},
    "colab_type": "code",
    "id": "fQ_vihjL98ut"
   },
   "outputs": [],
   "source": [
    "import numpy as np\n",
    "import cv2\n",
    "from keras.models import model_from_json\n",
    "from keras.preprocessing.image import load_img, img_to_array\n",
    "\n",
    "MODEL_ARC_PATH = \"and.json\"\n",
    "\n",
    "# JSONファイルからモデルのアーキテクチャを得る\n",
    "model_arc_str = open(MODEL_ARC_PATH, 'utf-8', 'ignore').read()\n",
    "model = model_from_json(model_arc_str)\n",
    "\n",
    "# モデル構成の確認\n",
    "model.summary()"
   ]
  },
  {
   "cell_type": "code",
   "execution_count": 0,
   "metadata": {
    "colab": {
     "base_uri": "https://localhost:8080/",
     "height": 109
    },
    "colab_type": "code",
    "id": "G1NWAamK7X2Y",
    "outputId": "3a418b91-dfe8-47be-c66a-7939683c3454"
   },
   "outputs": [
    {
     "name": "stdout",
     "output_type": "stream",
     "text": [
      "name: down\n",
      "score: 0.55760896\n"
     ]
    },
    {
     "name": "stderr",
     "output_type": "stream",
     "text": [
      "/usr/local/lib/python3.6/dist-packages/keras/engine/saving.py:310: UserWarning: No training configuration found in save file: the model was *not* compiled. Compile it manually.\n",
      "  warnings.warn('No training configuration found in save file: '\n"
     ]
    }
   ],
   "source": [
    "from keras.models import load_model\n",
    "import numpy as np\n",
    "from keras.preprocessing.image import img_to_array, load_img\n",
    "\n",
    "png_name = '137'\n",
    "model_file_name='./data/plots/cnn_model_weights1.hdf5'\n",
    "\n",
    "model=load_model('./data/plots/model.h5')\n",
    "\n",
    "img_path = ('./data/plots/down/' + png_name + '.png')\n",
    "img = img_to_array(load_img(img_path, target_size=(240,240)))\n",
    "img_nad = img_to_array(img)/255\n",
    "img_nad = img_nad[None, ...]\n",
    "\n",
    "label=['up','down','unknown']\n",
    "pred = model.predict(img_nad, batch_size=1, verbose=0)\n",
    "score = np.max(pred)\n",
    "pred_label = label[np.argmax(pred[0])]\n",
    "print('name:',pred_label)\n",
    "print('score:',score)"
   ]
  },
  {
   "cell_type": "code",
   "execution_count": 0,
   "metadata": {
    "colab": {},
    "colab_type": "code",
    "id": "qvvbX1LEgFE6"
   },
   "outputs": [],
   "source": [
    "pip install h5py"
   ]
  },
  {
   "cell_type": "code",
   "execution_count": 0,
   "metadata": {
    "colab": {},
    "colab_type": "code",
    "id": "VfdQDxgTkMeu"
   },
   "outputs": [],
   "source": [
    "print('./gdrive/My Drive/Bot_materials/materials/params/cnn_model_weights.h5')\n"
   ]
  },
  {
   "cell_type": "code",
   "execution_count": null,
   "metadata": {},
   "outputs": [],
   "source": [
    "!git status"
   ]
  }
 ],
 "metadata": {
  "accelerator": "GPU",
  "colab": {
   "include_colab_link": true,
   "machine_shape": "hm",
   "name": "Distortion_plot_simple.ipynb",
   "provenance": []
  },
  "kernelspec": {
   "display_name": "Python 3",
   "language": "python",
   "name": "python3"
  },
  "language_info": {
   "codemirror_mode": {
    "name": "ipython",
    "version": 3
   },
   "file_extension": ".py",
   "mimetype": "text/x-python",
   "name": "python",
   "nbconvert_exporter": "python",
   "pygments_lexer": "ipython3",
   "version": "3.6.9"
  }
 },
 "nbformat": 4,
 "nbformat_minor": 1
}
