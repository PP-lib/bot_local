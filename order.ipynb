{
 "cells": [
  {
   "cell_type": "code",
   "execution_count": 2,
   "metadata": {},
   "outputs": [
    {
     "ename": "SyntaxError",
     "evalue": "invalid syntax (<ipython-input-2-5cd59ada5e7c>, line 86)",
     "output_type": "error",
     "traceback": [
      "\u001b[0;36m  File \u001b[0;32m\"<ipython-input-2-5cd59ada5e7c>\"\u001b[0;36m, line \u001b[0;32m86\u001b[0m\n\u001b[0;31m    while\u001b[0m\n\u001b[0m          ^\u001b[0m\n\u001b[0;31mSyntaxError\u001b[0m\u001b[0;31m:\u001b[0m invalid syntax\n"
     ]
    }
   ],
   "source": [
    "#現在の所持金額の取得\n",
    "import ccxt\n",
    "from pprint import pprint\n",
    "import time\n",
    "import pandas as pd\n",
    "import numpy as np\n",
    "\n",
    "bitflyer = ccxt.bitflyer()\n",
    "bitflyer.apiKey = 'ScdrTUJ6AkYX1Fwk3u6kWe'\n",
    "bitflyer.secret = 't81+1ptGH5wdkxITxxJkf21zBy+NUrVaNqaD4971zI4='\n",
    "\n",
    "#所持金の確認\n",
    "def collateral_check():\n",
    "    collateral = bitflyer.private_get_getcollateral()\n",
    "    private_collateral=collateral['collateral']\n",
    "    print(\"collateral\",private_collateral)\n",
    "    return private_collateral\n",
    "\n",
    "#send order\n",
    "def order(order_side,order_lot):\n",
    "    order = bitflyer.create_order(\n",
    "    symbol = 'BTC/JPY',\n",
    "    type='market',\n",
    "    side=order_side,\n",
    "    amount=order_lot,\n",
    "    params = { \"product_code\" : \"FX_BTC_JPY\" })\n",
    "    #print(order_side,order_amount,\"lot注文しました\")\n",
    "    #order('SELL','0.03')\n",
    "    #return side, lot\n",
    "\n",
    "#POSITION CLOSE\n",
    "#残ポジションの決済\n",
    "def position_close():\n",
    "    positions = bitflyer.private_get_getpositions( params = { \"product_code\" : \"FX_BTC_JPY\" })\n",
    "    #ポジション数\n",
    "    position_count=len(positions)\n",
    "    i=0\n",
    "    position_size=0\n",
    "    if position_count != 0:\n",
    "        for i in range(position_count):\n",
    "        \n",
    "            if positions[i]['side'] =='BUY':\n",
    "                position_close = 'SELL'\n",
    "            else:\n",
    "                position_close = 'BUY'\n",
    "        \n",
    "            position_size=position_size+positions[i]['size']\n",
    "            position_count= position_size\n",
    "        \n",
    "        #決済注文\n",
    "        order(str(position_close),position_count)\n",
    "        print(\"position close\",'{}'.format(position_size,position_side),\"lot\",positions[i]['side'])\n",
    "\n",
    "#position check\n",
    "def position_check():\n",
    "    positions = bitflyer.private_get_getpositions( params = { \"product_code\" : \"FX_BTC_JPY\" })\n",
    "    print(len(positions),\"position keeping\")\n",
    "    return len(positions)\n",
    "\n",
    "#get predict infomation\n",
    "def pred_info():\n",
    "    global order_time,pred_side,pred_accr, pred_date, pred_number\n",
    "    df_judge = pd.read_csv('./resul.csv')\n",
    "    order_time = time.time()\n",
    "    pred_side = df_judge.iat[0,1]\n",
    "    pred_accr = df_judge.iat[1,1]\n",
    "    pred_date = df_judge.iat[2,1]\n",
    "    pred_number = df_judge.iat[3,1]\n",
    "    return order_time,pred_side,pred_accr, pred_date, pred_number\n",
    "\n",
    "    \n",
    "while True:\n",
    "    try:\n",
    "        #所持金の確認\n",
    "        collateral_check()\n",
    "        #すべてのポジションを確認して決済する\n",
    "        while float(position_check()) > 0:\n",
    "            position_close()\n",
    "            time.sleep(1)\n",
    "        \n",
    "        #予測結果を取得する\n",
    "        pred_info()\n",
    "        #注文を出す\n",
    "        order(pred_side,0.01)\n",
    "        #一定時間後ポジションを決済する\n",
    "        while \n",
    "        time.sleep(5)\n",
    "        position_close()\n",
    "        time.sleep(2)\n",
    "    except ccxt.BaseError as e:\n",
    "        position_close()\n",
    "        print(\"error発生\")"
   ]
  },
  {
   "cell_type": "code",
   "execution_count": null,
   "metadata": {},
   "outputs": [
    {
     "name": "stdout",
     "output_type": "stream",
     "text": [
      "初期所持金  　　: 9895.0\n",
      "\n",
      "-------------------------------------------------------------------------------\n",
      "保有ポジション  : 1 LOT\n",
      "クローズ　　　  : 0.01 lot BUY\n",
      "保有ポジション  : 0 LOT\n",
      "取引前所持金    : 9898.0\n",
      "10秒後予測      : BUY\n",
      "クローズ　　　  : 0.01 lot BUY\n",
      "取引後所持金    : 9898.0\n",
      "取引結果        : 0.0\n",
      "合計損益        : 3.0\n",
      "\n",
      "-------------------------------------------------------------------------------\n",
      "保有ポジション  : 0 LOT\n",
      "取引前所持金    : 9902.0\n",
      "10秒後予測      : BUY\n",
      "クローズ　　　  : 0.01 lot BUY\n",
      "取引後所持金    : 9902.0\n",
      "取引結果        : 0.0\n",
      "合計損益        : 7.0\n",
      "\n",
      "-------------------------------------------------------------------------------\n",
      "保有ポジション  : 0 LOT\n",
      "取引前所持金    : 9905.0\n",
      "10秒後予測      : BUY\n",
      "クローズ　　　  : 0.01 lot BUY\n",
      "取引後所持金    : 9903.0\n",
      "取引結果        : -2.0\n",
      "合計損益        : 8.0\n",
      "\n",
      "-------------------------------------------------------------------------------\n",
      "保有ポジション  : 0 LOT\n",
      "取引前所持金    : 9903.0\n",
      "10秒後予測      : BUY\n"
     ]
    }
   ],
   "source": [
    "#現在の所持金額の取得\n",
    "import ccxt\n",
    "from pprint import pprint\n",
    "import time\n",
    "import pandas as pd\n",
    "import numpy as np\n",
    "\n",
    "bitflyer = ccxt.bitflyer()\n",
    "bitflyer.apiKey = 'ScdrTUJ6AkYX1Fwk3u6kWe'\n",
    "bitflyer.secret = 't81+1ptGH5wdkxITxxJkf21zBy+NUrVaNqaD4971zI4='\n",
    "total_result = 0\n",
    "#所持金の確認\n",
    "def collateral_check():\n",
    "    global private_collateral\n",
    "    collateral = bitflyer.private_get_getcollateral()\n",
    "    private_collateral=collateral['collateral']\n",
    "#    print(\"所持金\",private_collateral)\n",
    "    return private_collateral\n",
    "\n",
    "#send order\n",
    "def order(order_side,order_lot):\n",
    "    order = bitflyer.create_order(\n",
    "    symbol = 'BTC/JPY',\n",
    "    type='market',\n",
    "    side=order_side,\n",
    "    amount=order_lot,\n",
    "    params = { \"product_code\" : \"FX_BTC_JPY\" })\n",
    "    #print(order_side,order_amount,\"lot注文しました\")\n",
    "    #order('SELL','0.03')\n",
    "    #return side, lot\n",
    "\n",
    "#POSITION CLOSE\n",
    "#残ポジションの決済\n",
    "def position_close():\n",
    "    positions = bitflyer.private_get_getpositions( params = { \"product_code\" : \"FX_BTC_JPY\" })\n",
    "    #ポジション数\n",
    "    position_count=len(positions)\n",
    "    i=0\n",
    "    position_size=0\n",
    "    if position_count != 0:\n",
    "        for i in range(position_count):\n",
    "        \n",
    "            if positions[i]['side'] =='BUY':\n",
    "                position_close = 'SELL'\n",
    "            else:\n",
    "                position_close = 'BUY'\n",
    "        \n",
    "            position_size=position_size+positions[i]['size']\n",
    "            position_count= position_size\n",
    "        \n",
    "        #決済注文\n",
    "        order(str(position_close),position_count)\n",
    "        print(\"クローズ　　　  :\",'{}'.format(position_size),\"lot\", positions[i]['side'])\n",
    "\n",
    "#position check\n",
    "def position_check():\n",
    "    positions = bitflyer.private_get_getpositions( params = { \"product_code\" : \"FX_BTC_JPY\" })\n",
    "    print(\"保有ポジション  :\",len(positions),\"LOT\")\n",
    "    return len(positions)\n",
    "\n",
    "#get predict infomation\n",
    "def pred_info():\n",
    "    global order_time,pred_side,pred_accr, pred_date, pred_number\n",
    "    df_judge = pd.read_csv('./resul.csv')\n",
    "    order_time = time.time()\n",
    "    pred_side = df_judge.iat[0,1]\n",
    "    pred_accr = df_judge.iat[1,1]\n",
    "    pred_date = df_judge.iat[2,1]\n",
    "    pred_number = df_judge.iat[3,1]\n",
    "    return order_time,pred_side,pred_accr, pred_date, pred_number\n",
    "\n",
    "collateral_check()\n",
    "#現在の所持金（損益計算用）\n",
    "start_collateral=private_collateral\n",
    "print(\"初期所持金  　　:\",private_collateral)\n",
    " \n",
    "\n",
    "while True:\n",
    "    try:\n",
    "        print(\"\")\n",
    "        print(\"-------------------------------------------------------------------------------\")\n",
    "        #すべてのポジションを確認して決済する\n",
    "        while float(position_check()) > 0:\n",
    "            position_close()\n",
    "            time.sleep(1)\n",
    "            \n",
    "        #所持金の確認\n",
    "        collateral_check()\n",
    "        #取引前の所持金（損益計算用）\n",
    "        prev_collateral=private_collateral\n",
    "        print(\"取引前所持金    :\",prev_collateral)\n",
    " \n",
    "\n",
    "    \n",
    "        #予測結果を取得する\n",
    "        pred_info()\n",
    "        #注文を出す\n",
    "        print(\"10秒後予測      :\",pred_side)\n",
    "        order(pred_side,'0.01')\n",
    "        #一定時間後ポジションを決済する\n",
    "        time.sleep(10)\n",
    "        position_close()\n",
    "        collateral_check()\n",
    "        recent_collateral=private_collateral\n",
    "        print(\"取引後所持金    :\",recent_collateral)\n",
    " \n",
    "        #損益計算\n",
    "        result=recent_collateral-prev_collateral\n",
    "        print(\"取引結果        :\",result)\n",
    "        #損益合計\n",
    "        total_result=recent_collateral - start_collateral\n",
    "        print(\"合計損益        :\",total_result)\n",
    "        time.sleep(2)\n",
    "        \n",
    "    except ccxt.BaseError as e:\n",
    "        position_close()\n",
    "        print(\"error発生\")\n",
    "    \n"
   ]
  },
  {
   "cell_type": "code",
   "execution_count": null,
   "metadata": {},
   "outputs": [],
   "source": []
  },
  {
   "cell_type": "code",
   "execution_count": null,
   "metadata": {},
   "outputs": [],
   "source": [
    "def order(order_side,):\n",
    "    order = bitflyer.create_order(\n",
    "    symbol = 'BTC/JPY',\n",
    "    type='market',\n",
    "    side=order_side,\n",
    "    amount=float(order_amount),\n",
    "    params = { \"product_code\" : \"FX_BTC_JPY\" })\n",
    "    #pprint(order_side,order_amount,\"lot注文しました\")\n",
    "order('SELL','0.03')"
   ]
  },
  {
   "cell_type": "code",
   "execution_count": 69,
   "metadata": {},
   "outputs": [],
   "source": [
    "import pandas as pd\n",
    "def pred_datas():\n",
    "    global pred_side, pred_accr, ared_date, pred_number\n",
    "    df_judge = pd.read_csv('./resul.csv')\n",
    "    pred_side = df_judge.iat[0,1]\n",
    "    pred_accr = df_judge.iat[1,1]\n",
    "    pred_date = df_judge.iat[2,1]\n",
    "    pred_number = df_judge.iat[3,1]\n",
    "    return(pred_side, pred_accr, pred_date, pred_number)\n",
    "pred_datas()"
   ]
  },
  {
   "cell_type": "code",
   "execution_count": 72,
   "metadata": {},
   "outputs": [
    {
     "name": "stdout",
     "output_type": "stream",
     "text": [
      "/bin/sh: 1: ./: Permission denied\r\n"
     ]
    }
   ],
   "source": [
    "!./\n"
   ]
  },
  {
   "cell_type": "code",
   "execution_count": 48,
   "metadata": {},
   "outputs": [
    {
     "name": "stdout",
     "output_type": "stream",
     "text": [
      "JRF20200306-062512-074133 : 注文状況 closed\n"
     ]
    }
   ],
   "source": [
    "#約定の可否確認\n",
    "orders = bitflyer.fetch_orders(\n",
    "\tsymbol = \"BTC/JPY\",\n",
    "\tparams = { \"product_code\" : \"FX_BTC_JPY\",\n",
    "\t\t\"count\" : 1})\n",
    "\n",
    "for o in orders:\n",
    "\tprint( o[\"id\"] + \" : 注文状況 \" + o[\"status\"] )\n"
   ]
  },
  {
   "cell_type": "code",
   "execution_count": 53,
   "metadata": {},
   "outputs": [
    {
     "name": "stdout",
     "output_type": "stream",
     "text": [
      "ポジションサイズ 0.01 lot 'SELL'\n",
      "position_close\n"
     ]
    }
   ],
   "source": [
    "#残ポジションの決済\n",
    "def position_close():\n",
    "    positions = bitflyer.private_get_getpositions( params = { \"product_code\" : \"FX_BTC_JPY\" })\n",
    "    #ポジション数\n",
    "    position_count=len(positions)\n",
    "    i=0\n",
    "    position_size=0\n",
    "    if position_count != 0:\n",
    "        for i in range(position_count):\n",
    "    return(pred_side, pred_accr, pred_date, pred_number)\n",
    "        \n",
    "            if positions[i]['side'] =='BUY':\n",
    "                position_close = 'SELL'\n",
    "            else:\n",
    "                position_close = 'BUY'\n",
    "        \n",
    "            position_size=position_size+positions[i]['size']\n",
    "            position_count= position_size\n",
    "        \n",
    "        #決済注文\n",
    "        order(str(position_close),position_count)\n",
    "        print(\"ポジションサイズ\",'{}'.format(position_size,position_side),\"lot\",position_side)\n",
    "        print(\"position_close\")\n",
    "position_close()"
   ]
  },
  {
   "cell_type": "code",
   "execution_count": 57,
   "metadata": {},
   "outputs": [
    {
     "name": "stdout",
     "output_type": "stream",
     "text": [
      "0 position keeping\n"
     ]
    }
   ],
   "source": [
    "def position_check():\n",
    "    positions = bitflyer.private_get_getpositions( params = { \"product_code\" : \"FX_BTC_JPY\" })\n",
    "    print(len(positions),\"position keeping\")\n",
    "position_counts()"
   ]
  },
  {
   "cell_type": "code",
   "execution_count": 77,
   "metadata": {},
   "outputs": [
    {
     "data": {
      "text/plain": [
       "'unknown'"
      ]
     },
     "execution_count": 77,
     "metadata": {},
     "output_type": "execute_result"
    }
   ],
   "source": [
    "\n",
    "def pred_info():\n",
    "    df_judge = pd.read_csv('./resul.csv')\n",
    "    order_time = time.time()\n",
    "    pred_side = df_judge.iat[0,1]\n",
    "    pred_accr = df_judge.iat[1,1]\n",
    "    pred_date = df_judge.iat[2,1]\n",
    "    pred_number = df_judge.iat[3,1]\n",
    "    return order_time,pred_side,pred_accr, pred_date, pred_number\n",
    "pred_side"
   ]
  },
  {
   "cell_type": "code",
   "execution_count": null,
   "metadata": {},
   "outputs": [],
   "source": []
  }
 ],
 "metadata": {
  "kernelspec": {
   "display_name": "Python 3",
   "language": "python",
   "name": "python3"
  },
  "language_info": {
   "codemirror_mode": {
    "name": "ipython",
    "version": 3
   },
   "file_extension": ".py",
   "mimetype": "text/x-python",
   "name": "python",
   "nbconvert_exporter": "python",
   "pygments_lexer": "ipython3",
   "version": "3.6.9"
  }
 },
 "nbformat": 4,
 "nbformat_minor": 2
}
