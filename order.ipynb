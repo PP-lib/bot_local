{
 "cells": [
  {
   "cell_type": "code",
   "execution_count": 68,
   "metadata": {},
   "outputs": [
    {
     "name": "stdout",
     "output_type": "stream",
     "text": [
      "collateral 10057.0\n",
      "0 position keeping\n",
      "collateral 10057.0\n",
      "0 position keeping\n",
      "collateral 10057.0\n",
      "0 position keeping\n",
      "collateral 10057.0\n",
      "0 position keeping\n",
      "collateral 10057.0\n",
      "0 position keeping\n",
      "collateral 10057.0\n",
      "0 position keeping\n",
      "collateral 10057.0\n",
      "1 position keeping\n",
      "ポジションサイズ 0.01 lot 'SELL'\n",
      "position_close\n",
      "0 position keeping\n",
      "collateral 10056.0\n",
      "0 position keeping\n",
      "collateral 10056.0\n",
      "0 position keeping\n",
      "collateral 10056.0\n",
      "0 position keeping\n",
      "collateral 10056.0\n",
      "0 position keeping\n",
      "collateral 10056.0\n",
      "1 position keeping\n",
      "ポジションサイズ 0.01 lot 'SELL'\n",
      "position_close\n",
      "0 position keeping\n",
      "collateral 10056.0\n",
      "0 position keeping\n",
      "collateral 10056.0\n",
      "0 position keeping\n"
     ]
    },
    {
     "ename": "KeyboardInterrupt",
     "evalue": "",
     "output_type": "error",
     "traceback": [
      "\u001b[0;31m---------------------------------------------------------------------------\u001b[0m",
      "\u001b[0;31mKeyboardInterrupt\u001b[0m                         Traceback (most recent call last)",
      "\u001b[0;32m<ipython-input-68-840ef1ba8879>\u001b[0m in \u001b[0;36m<module>\u001b[0;34m()\u001b[0m\n\u001b[1;32m     58\u001b[0m         \u001b[0;31m#注文を出す\u001b[0m\u001b[0;34m\u001b[0m\u001b[0;34m\u001b[0m\u001b[0;34m\u001b[0m\u001b[0m\n\u001b[1;32m     59\u001b[0m         \u001b[0;31m#一定時間後ポジションを決済する\u001b[0m\u001b[0;34m\u001b[0m\u001b[0;34m\u001b[0m\u001b[0;34m\u001b[0m\u001b[0m\n\u001b[0;32m---> 60\u001b[0;31m         \u001b[0mtime\u001b[0m\u001b[0;34m.\u001b[0m\u001b[0msleep\u001b[0m\u001b[0;34m(\u001b[0m\u001b[0;36m2\u001b[0m\u001b[0;34m)\u001b[0m\u001b[0;34m\u001b[0m\u001b[0;34m\u001b[0m\u001b[0m\n\u001b[0m\u001b[1;32m     61\u001b[0m     \u001b[0;32mexcept\u001b[0m \u001b[0mccxt\u001b[0m\u001b[0;34m.\u001b[0m\u001b[0mBaseError\u001b[0m \u001b[0;32mas\u001b[0m \u001b[0me\u001b[0m\u001b[0;34m:\u001b[0m\u001b[0;34m\u001b[0m\u001b[0;34m\u001b[0m\u001b[0m\n\u001b[1;32m     62\u001b[0m         \u001b[0mprint\u001b[0m\u001b[0;34m(\u001b[0m\u001b[0;34m\"error発生\"\u001b[0m\u001b[0;34m)\u001b[0m\u001b[0;34m\u001b[0m\u001b[0;34m\u001b[0m\u001b[0m\n",
      "\u001b[0;31mKeyboardInterrupt\u001b[0m: "
     ]
    }
   ],
   "source": [
    "#現在の所持金額の取得\n",
    "import ccxt\n",
    "from pprint import pprint\n",
    "import time\n",
    "\n",
    "bitflyer = ccxt.bitflyer()\n",
    "bitflyer.apiKey = 'ScdrTUJ6AkYX1Fwk3u6kWe'\n",
    "bitflyer.secret = 't81+1ptGH5wdkxITxxJkf21zBy+NUrVaNqaD4971zI4='\n",
    "\n",
    "#所持金の確認\n",
    "def collateral_check():\n",
    "    collateral = bitflyer.private_get_getcollateral()\n",
    "    private_collateral=collateral['collateral']\n",
    "    print(\"collateral\",private_collateral)\n",
    "    return private_collateral\n",
    "#POSITION CLOSE\n",
    "#残ポジションの決済\n",
    "def position_close():\n",
    "    positions = bitflyer.private_get_getpositions( params = { \"product_code\" : \"FX_BTC_JPY\" })\n",
    "    #ポジション数\n",
    "    position_count=len(positions)\n",
    "    i=0\n",
    "    position_size=0\n",
    "    if position_count != 0:\n",
    "        for i in range(position_count):\n",
    "        \n",
    "            if positions[i]['side'] =='BUY':\n",
    "                position_close = 'SELL'\n",
    "            else:\n",
    "                position_close = 'BUY'\n",
    "        \n",
    "            position_size=position_size+positions[i]['size']\n",
    "            position_count= position_size\n",
    "        \n",
    "        #決済注文\n",
    "        order(str(position_close),position_count)\n",
    "        print(\"ポジションサイズ\",'{}'.format(position_size,position_side),\"lot\",position_side)\n",
    "        print(\"position_close\")\n",
    "\n",
    "#position check\n",
    "def position_check():\n",
    "    positions = bitflyer.private_get_getpositions( params = { \"product_code\" : \"FX_BTC_JPY\" })\n",
    "    print(len(positions),\"position keeping\")\n",
    "    return len(positions)\n",
    "    \n",
    "    \n",
    "while True:\n",
    "    try:\n",
    "        #所持金の確認\n",
    "        collateral_check()\n",
    "        #すべてのポジションを確認して決済する\n",
    "        while float(position_check()) > 0:\n",
    "            position_close()\n",
    "            time.sleep(1)\n",
    "        \n",
    "        #予測結果を取得する\n",
    "        #注文を出す\n",
    "        #一定時間後ポジションを決済する\n",
    "        time.sleep(2)\n",
    "    except ccxt.BaseError as e:\n",
    "        print(\"error発生\")"
   ]
  },
  {
   "cell_type": "code",
   "execution_count": 69,
   "metadata": {},
   "outputs": [],
   "source": []
  },
  {
   "cell_type": "code",
   "execution_count": 33,
   "metadata": {},
   "outputs": [],
   "source": [
    "#注文を出す\n",
    "def order(order_side,order_amount):\n",
    "    order = bitflyer.create_order(\n",
    "    symbol = 'BTC/JPY',\n",
    "    type='market',\n",
    "    side=order_side,\n",
    "    amount=float(order_amount),\n",
    "    params = { \"product_code\" : \"FX_BTC_JPY\" })\n",
    "    #pprint(order_side,order_amount,\"lot注文しました\")\n",
    "order('SELL','0.03')"
   ]
  },
  {
   "cell_type": "code",
   "execution_count": 48,
   "metadata": {},
   "outputs": [
    {
     "name": "stdout",
     "output_type": "stream",
     "text": [
      "JRF20200306-062512-074133 : 注文状況 closed\n"
     ]
    }
   ],
   "source": [
    "#約定の可否確認\n",
    "orders = bitflyer.fetch_orders(\n",
    "\tsymbol = \"BTC/JPY\",\n",
    "\tparams = { \"product_code\" : \"FX_BTC_JPY\",\n",
    "\t\t\"count\" : 1})\n",
    "\n",
    "for o in orders:\n",
    "\tprint( o[\"id\"] + \" : 注文状況 \" + o[\"status\"] )\n"
   ]
  },
  {
   "cell_type": "code",
   "execution_count": 53,
   "metadata": {},
   "outputs": [
    {
     "name": "stdout",
     "output_type": "stream",
     "text": [
      "ポジションサイズ 0.01 lot 'SELL'\n",
      "position_close\n"
     ]
    }
   ],
   "source": [
    "#残ポジションの決済\n",
    "def position_close():\n",
    "    positions = bitflyer.private_get_getpositions( params = { \"product_code\" : \"FX_BTC_JPY\" })\n",
    "    #ポジション数\n",
    "    position_count=len(positions)\n",
    "    i=0\n",
    "    position_size=0\n",
    "    if position_count != 0:\n",
    "        for i in range(position_count):\n",
    "        \n",
    "            if positions[i]['side'] =='BUY':\n",
    "                position_close = 'SELL'\n",
    "            else:\n",
    "                position_close = 'BUY'\n",
    "        \n",
    "            position_size=position_size+positions[i]['size']\n",
    "            position_count= position_size\n",
    "        \n",
    "        #決済注文\n",
    "        order(str(position_close),position_count)\n",
    "        print(\"ポジションサイズ\",'{}'.format(position_size,position_side),\"lot\",position_side)\n",
    "        print(\"position_close\")\n",
    "position_close()"
   ]
  },
  {
   "cell_type": "code",
   "execution_count": 57,
   "metadata": {},
   "outputs": [
    {
     "name": "stdout",
     "output_type": "stream",
     "text": [
      "0 position keeping\n"
     ]
    }
   ],
   "source": [
    "def position_check():\n",
    "    positions = bitflyer.private_get_getpositions( params = { \"product_code\" : \"FX_BTC_JPY\" })\n",
    "    print(len(positions),\"position keeping\")\n",
    "position_counts()"
   ]
  },
  {
   "cell_type": "code",
   "execution_count": null,
   "metadata": {},
   "outputs": [],
   "source": [
    "import pandas as pd\n",
    "import numpy as np\n",
    "df_judge = pd.read_csv('./gdrive/My Drive/Bot_materials/materials/plots/resul.csv')\n",
    "order_time = time.time()\n",
    "pred_side = df_judge.iat[0,1]\n",
    "pred_accr = df_judge.iat[1,1]\n",
    "pred_date = df_judge.iat[2,1]\n",
    "pred_number = df_judge.iat[3,1]\n",
    "pred_number"
   ]
  }
 ],
 "metadata": {
  "kernelspec": {
   "display_name": "Python 3",
   "language": "python",
   "name": "python3"
  },
  "language_info": {
   "codemirror_mode": {
    "name": "ipython",
    "version": 3
   },
   "file_extension": ".py",
   "mimetype": "text/x-python",
   "name": "python",
   "nbconvert_exporter": "python",
   "pygments_lexer": "ipython3",
   "version": "3.6.9"
  }
 },
 "nbformat": 4,
 "nbformat_minor": 2
}
