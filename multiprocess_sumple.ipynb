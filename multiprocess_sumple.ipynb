{
 "cells": [
  {
   "cell_type": "code",
   "execution_count": null,
   "metadata": {},
   "outputs": [],
   "source": [
    "import time\n",
    "from multiprocessing import Value, Array, Process\n",
    "\n",
    "\n",
    "def process1(count, array):\n",
    "    for i in range(5):\n",
    "        time.sleep(0.5)\n",
    "        # Valueオブジェクトの値を操作\n",
    "        count.value += 1\n",
    "        # Arrayオブジェクトの値を操作\n",
    "        array[count.value - 1] = count.value\n",
    "        print(\"process1:\" + str(count.value))\n",
    "\n",
    "\n",
    "def process2(count, array):\n",
    "    for i in range(5):\n",
    "        time.sleep(0.7)\n",
    "        count.value += 1\n",
    "        array[count.value - 1] = count.value\n",
    "        print(\"process2:\" + str(count.value))\n",
    "\n",
    "\n",
    "def process3(count, array):\n",
    "    for i in range(5):\n",
    "        time.sleep(0.9)\n",
    "        count.value += 1\n",
    "        array[count.value - 1] = count.value\n",
    "        print(\"process3:\" + str(count.value))\n",
    "\n",
    "\n",
    "if __name__ == '__main__':\n",
    "    # 共有メモリの作成\n",
    "    # Valueオブジェクトの生成\n",
    "    count = Value('i', 0)\n",
    "    # Arrayオブジェクトの生成\n",
    "    array = Array('i', 15)\n",
    "    print(\"count:\" + str(type(count)))\n",
    "    print(\"array:\" + str(type(array)))\n",
    "    print(array[:])\n",
    "\n",
    "    process1 = Process(target=process1, args=[count, array])\n",
    "    process2 = Process(target=process2, args=[count, array])\n",
    "    process3 = Process(target=process3, args=[count, array])\n",
    "\n",
    "    process1.start()\n",
    "    process2.start()\n",
    "    process3.start()\n",
    "\n",
    "    process1.join()\n",
    "    process2.join()\n",
    "    process3.join()\n",
    "\n",
    "    print(array[:])\n",
    "    print(\"process ended\")\n"
   ]
  }
 ],
 "metadata": {
  "kernelspec": {
   "display_name": "Python 3",
   "language": "python",
   "name": "python3"
  },
  "language_info": {
   "codemirror_mode": {
    "name": "ipython",
    "version": 3
   },
   "file_extension": ".py",
   "mimetype": "text/x-python",
   "name": "python",
   "nbconvert_exporter": "python",
   "pygments_lexer": "ipython3",
   "version": "3.6.9"
  }
 },
 "nbformat": 4,
 "nbformat_minor": 2
}
